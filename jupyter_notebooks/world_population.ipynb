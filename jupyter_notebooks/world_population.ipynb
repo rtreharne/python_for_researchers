{
 "cells": [
  {
   "cell_type": "markdown",
   "metadata": {
    "slideshow": {
     "slide_type": "slide"
    }
   },
   "source": [
    "<div style=\"text-align: center\">\n",
    "<img src=\"a6_1.png\" width=\"400px\" style=\"display:inline-block\"><img src=\"a6_2.png\" width=\"400px\" style=\"display: inline-block\">\n",
    "</div>"
   ]
  },
  {
   "cell_type": "markdown",
   "metadata": {},
   "source": [
    "# Plan\n",
    "\n",
    "1. Getting data from the web\n",
    "2. Plotting\n",
    "3. Formatting\n",
    "4. Plotly\n",
    "5. The power of Jupyter Notebooks"
   ]
  },
  {
   "cell_type": "code",
   "execution_count": 15,
   "metadata": {
    "slideshow": {
     "slide_type": "slide"
    }
   },
   "outputs": [],
   "source": [
    "import pandas as pd\n",
    "import numpy as np\n",
    "import matplotlib.pyplot as plt\n",
    "URL = \"https://en.wikipedia.org/wiki/World_population\" # Wikepedia World Population Page"
   ]
  },
  {
   "cell_type": "code",
   "execution_count": 16,
   "metadata": {
    "slideshow": {
     "slide_type": "slide"
    }
   },
   "outputs": [],
   "source": [
    "df = pd.read_html(URL, header=0,index_col=0)[8]"
   ]
  },
  {
   "cell_type": "code",
   "execution_count": 17,
   "metadata": {},
   "outputs": [],
   "source": [
    "df1 = df[df.columns[0: -2]]"
   ]
  },
  {
   "cell_type": "code",
   "execution_count": 18,
   "metadata": {},
   "outputs": [
    {
     "data": {
      "text/html": [
       "<div>\n",
       "<style scoped>\n",
       "    .dataframe tbody tr th:only-of-type {\n",
       "        vertical-align: middle;\n",
       "    }\n",
       "\n",
       "    .dataframe tbody tr th {\n",
       "        vertical-align: top;\n",
       "    }\n",
       "\n",
       "    .dataframe thead th {\n",
       "        text-align: right;\n",
       "    }\n",
       "</style>\n",
       "<table border=\"1\" class=\"dataframe\">\n",
       "  <thead>\n",
       "    <tr style=\"text-align: right;\">\n",
       "      <th></th>\n",
       "      <th>1500</th>\n",
       "      <th>1600</th>\n",
       "      <th>1700</th>\n",
       "      <th>1750</th>\n",
       "      <th>1800</th>\n",
       "      <th>1850</th>\n",
       "      <th>1900</th>\n",
       "      <th>1950</th>\n",
       "      <th>1999</th>\n",
       "      <th>2008</th>\n",
       "      <th>2010</th>\n",
       "      <th>2012</th>\n",
       "    </tr>\n",
       "    <tr>\n",
       "      <th>Region</th>\n",
       "      <th></th>\n",
       "      <th></th>\n",
       "      <th></th>\n",
       "      <th></th>\n",
       "      <th></th>\n",
       "      <th></th>\n",
       "      <th></th>\n",
       "      <th></th>\n",
       "      <th></th>\n",
       "      <th></th>\n",
       "      <th></th>\n",
       "      <th></th>\n",
       "    </tr>\n",
       "  </thead>\n",
       "  <tbody>\n",
       "    <tr>\n",
       "      <th>World</th>\n",
       "      <td>585</td>\n",
       "      <td>660</td>\n",
       "      <td>710</td>\n",
       "      <td>791</td>\n",
       "      <td>978</td>\n",
       "      <td>1262</td>\n",
       "      <td>1650</td>\n",
       "      <td>2521</td>\n",
       "      <td>6008</td>\n",
       "      <td>6707</td>\n",
       "      <td>6896</td>\n",
       "      <td>7052</td>\n",
       "    </tr>\n",
       "    <tr>\n",
       "      <th>Asia</th>\n",
       "      <td>282</td>\n",
       "      <td>350</td>\n",
       "      <td>411</td>\n",
       "      <td>502</td>\n",
       "      <td>635</td>\n",
       "      <td>809</td>\n",
       "      <td>947</td>\n",
       "      <td>1402</td>\n",
       "      <td>3700</td>\n",
       "      <td>4054</td>\n",
       "      <td>4164</td>\n",
       "      <td>4250</td>\n",
       "    </tr>\n",
       "    <tr>\n",
       "      <th>Africa</th>\n",
       "      <td>86</td>\n",
       "      <td>114</td>\n",
       "      <td>106</td>\n",
       "      <td>106</td>\n",
       "      <td>107</td>\n",
       "      <td>111</td>\n",
       "      <td>133</td>\n",
       "      <td>221</td>\n",
       "      <td>783</td>\n",
       "      <td>973</td>\n",
       "      <td>1022</td>\n",
       "      <td>1052</td>\n",
       "    </tr>\n",
       "    <tr>\n",
       "      <th>Europe</th>\n",
       "      <td>168</td>\n",
       "      <td>170</td>\n",
       "      <td>178</td>\n",
       "      <td>190</td>\n",
       "      <td>203</td>\n",
       "      <td>276</td>\n",
       "      <td>408</td>\n",
       "      <td>547</td>\n",
       "      <td>675</td>\n",
       "      <td>732</td>\n",
       "      <td>738</td>\n",
       "      <td>740</td>\n",
       "    </tr>\n",
       "    <tr>\n",
       "      <th>Latin America[Note 1]</th>\n",
       "      <td>40</td>\n",
       "      <td>20</td>\n",
       "      <td>10</td>\n",
       "      <td>16</td>\n",
       "      <td>24</td>\n",
       "      <td>38</td>\n",
       "      <td>74</td>\n",
       "      <td>167</td>\n",
       "      <td>508</td>\n",
       "      <td>577</td>\n",
       "      <td>590</td>\n",
       "      <td>603</td>\n",
       "    </tr>\n",
       "    <tr>\n",
       "      <th>North America[Note 1]</th>\n",
       "      <td>6</td>\n",
       "      <td>3</td>\n",
       "      <td>2</td>\n",
       "      <td>2</td>\n",
       "      <td>7</td>\n",
       "      <td>26</td>\n",
       "      <td>82</td>\n",
       "      <td>172</td>\n",
       "      <td>312</td>\n",
       "      <td>337</td>\n",
       "      <td>345</td>\n",
       "      <td>351</td>\n",
       "    </tr>\n",
       "    <tr>\n",
       "      <th>Oceania</th>\n",
       "      <td>3</td>\n",
       "      <td>3</td>\n",
       "      <td>3</td>\n",
       "      <td>2</td>\n",
       "      <td>2</td>\n",
       "      <td>2</td>\n",
       "      <td>6</td>\n",
       "      <td>13</td>\n",
       "      <td>30</td>\n",
       "      <td>34</td>\n",
       "      <td>37</td>\n",
       "      <td>38</td>\n",
       "    </tr>\n",
       "  </tbody>\n",
       "</table>\n",
       "</div>"
      ],
      "text/plain": [
       "                       1500  1600  1700  1750  1800  1850  1900  1950  1999  \\\n",
       "Region                                                                        \n",
       "World                   585   660   710   791   978  1262  1650  2521  6008   \n",
       "Asia                    282   350   411   502   635   809   947  1402  3700   \n",
       "Africa                   86   114   106   106   107   111   133   221   783   \n",
       "Europe                  168   170   178   190   203   276   408   547   675   \n",
       "Latin America[Note 1]    40    20    10    16    24    38    74   167   508   \n",
       "North America[Note 1]     6     3     2     2     7    26    82   172   312   \n",
       "Oceania                   3     3     3     2     2     2     6    13    30   \n",
       "\n",
       "                       2008  2010  2012  \n",
       "Region                                   \n",
       "World                  6707  6896  7052  \n",
       "Asia                   4054  4164  4250  \n",
       "Africa                  973  1022  1052  \n",
       "Europe                  732   738   740  \n",
       "Latin America[Note 1]   577   590   603  \n",
       "North America[Note 1]   337   345   351  \n",
       "Oceania                  34    37    38  "
      ]
     },
     "execution_count": 18,
     "metadata": {},
     "output_type": "execute_result"
    }
   ],
   "source": [
    "df1.sort_values(by=['2012'], ascending=False)"
   ]
  },
  {
   "cell_type": "code",
   "execution_count": 19,
   "metadata": {},
   "outputs": [],
   "source": [
    "df1.index.values\n",
    "new_index = [x.replace(\"[Note 1]\", \"\") for x in df.index.values]\n",
    "df1.index = new_index"
   ]
  },
  {
   "cell_type": "code",
   "execution_count": 20,
   "metadata": {},
   "outputs": [],
   "source": [
    "df1.to_excel(\"world_population.xlsx\")"
   ]
  },
  {
   "cell_type": "code",
   "execution_count": 21,
   "metadata": {},
   "outputs": [],
   "source": [
    "with open('mytable.tex','w') as tf:\n",
    "    tf.write(df1.to_latex())"
   ]
  },
  {
   "cell_type": "code",
   "execution_count": null,
   "metadata": {},
   "outputs": [],
   "source": []
  },
  {
   "cell_type": "code",
   "execution_count": 22,
   "metadata": {
    "slideshow": {
     "slide_type": "slide"
    }
   },
   "outputs": [],
   "source": [
    "index = df.index.values"
   ]
  },
  {
   "cell_type": "code",
   "execution_count": 32,
   "metadata": {
    "slideshow": {
     "slide_type": "slide"
    }
   },
   "outputs": [
    {
     "data": {
      "image/png": "[encoded data removed]",
      "text/plain": [
       "<matplotlib.figure.Figure at 0x7f084671c6a0>"
      ]
     },
     "metadata": {},
     "output_type": "display_data"
    }
   ],
   "source": [
    "%matplotlib inline\n",
    "\n",
    "height = 10\n",
    "width = 0.66*height\n",
    "\n",
    "fig, ax = plt.subplots(figsize = (width, height))\n",
    "\n",
    "plt.xticks(fontsize=14)  \n",
    "plt.yticks(fontsize=14)\n",
    "\n",
    "ax.set_yscale('log')\n",
    "\n",
    "year = df.columns.tolist()\n",
    "year = list(map(int, year))\n",
    "\n",
    "#colors = plt.cm.rainbow(np.linspace(0,1,len(df)))\n",
    "\n",
    "ax.set_title(\"Historical World Population: 1500 - 2012\", fontsize=16)\n",
    "ax.set_xlim(1500, 2012)\n",
    "ax.set_ylabel('Population (millions)', fontsize=14)#ax.set_xlabel('Year', fontsize=14)\n",
    "ax.grid(which='minor', linestyle=':', linewidth='0.1', color='grey')\n",
    "ax.grid(which='major', linestyle='-', linewidth='0.2', color='grey', axis='y')\n",
    "\n",
    "for i, row in enumerate(df.iterrows()):\n",
    "    ax.plot(year, row[1])\n",
    "    ax.plot(year, row[1], label=row[1].name.replace(\"[Note 1]\", \"\"), linewidth='3')#, color=colors[i])\n",
    "    #y_pos = row[1][-3] - 0.5  \n",
    "    #ax.text(2020, y_pos, row[1].name.replace(\"[Note 1]\", \"\")+ \", \"+str(y_pos), fontsize=14, color=colors[i])\n",
    "\n",
    "#plt.legend(bbox_to_anchor=(1.02,1), loc=\"upper left\")    \n",
    "#plt.legend(loc=\"upper left\")\n",
    "\n",
    "#plt.text(1480, 0.5, \"World Population, Wikipedia Article.\\n\" +\n",
    "         #\"https://en.wikipedia.org/wiki/World_population. \" +\n",
    "         #\"[Last Accessed: 12 April 2019]\", fontsize=11, ha=\"left\")  \n",
    "\n",
    "plt.show()"
   ]
  },
  {
   "cell_type": "code",
   "execution_count": 24,
   "metadata": {},
   "outputs": [],
   "source": [
    "%matplotlib inline \n",
    "import pprint\n",
    "import numpy as np\n",
    "\n",
    "# Matplotlib\n",
    "import matplotlib.pyplot as plt\n",
    "\n",
    "# Plotly\n",
    "import plotly.plotly as py\n",
    "import plotly.tools as tls\n",
    "\n",
    "tls.set_credentials_file(username='rob.treharne', api_key='sah3pqg1qQPKCsLsm1JA')"
   ]
  },
  {
   "cell_type": "code",
   "execution_count": 25,
   "metadata": {},
   "outputs": [],
   "source": [
    "## Generating the data..\n",
    "x =  np.linspace(np.pi, 3*np.pi, 1000)\n",
    "sinx = np.sin(x)\n",
    "logx = np.log(x)"
   ]
  },
  {
   "cell_type": "code",
   "execution_count": 26,
   "metadata": {},
   "outputs": [
    {
     "data": {
      "text/plain": [
       "Text(0.5,1,'A Sine Curve')"
      ]
     },
     "execution_count": 26,
     "metadata": {},
     "output_type": "execute_result"
    },
    {
     "data": {
      "image/png": "[encoded data removed]",
      "text/plain": [
       "<matplotlib.figure.Figure at 0x7f0844047048>"
      ]
     },
     "metadata": {},
     "output_type": "display_data"
    }
   ],
   "source": [
    "# Creating the matplotlib graph..\n",
    "mpl_fig = plt.figure()\n",
    "ax = mpl_fig.add_subplot(111)\n",
    "ax.plot(x, sinx)\n",
    "ax.set_title('A Sine Curve')"
   ]
  },
  {
   "cell_type": "code",
   "execution_count": 27,
   "metadata": {},
   "outputs": [
    {
     "name": "stdout",
     "output_type": "stream",
     "text": [
      "Help on function mpl_to_plotly in module plotly.tools:\n",
      "\n",
      "mpl_to_plotly(fig, resize=False, strip_style=False, verbose=False)\n",
      "    Convert a matplotlib figure to plotly dictionary and send.\n",
      "    \n",
      "    All available information about matplotlib visualizations are stored\n",
      "    within a matplotlib.figure.Figure object. You can create a plot in python\n",
      "    using matplotlib, store the figure object, and then pass this object to\n",
      "    the fig_to_plotly function. In the background, mplexporter is used to\n",
      "    crawl through the mpl figure object for appropriate information. This\n",
      "    information is then systematically sent to the PlotlyRenderer which\n",
      "    creates the JSON structure used to make plotly visualizations. Finally,\n",
      "    these dictionaries are sent to plotly and your browser should open up a\n",
      "    new tab for viewing! Optionally, if you're working in IPython, you can\n",
      "    set notebook=True and the PlotlyRenderer will call plotly.iplot instead\n",
      "    of plotly.plot to have the graph appear directly in the IPython notebook.\n",
      "    \n",
      "    Note, this function gives the user access to a simple, one-line way to\n",
      "    render an mpl figure in plotly. If you need to trouble shoot, you can do\n",
      "    this step manually by NOT running this fuction and entereing the following:\n",
      "    \n",
      "    ===========================================================================\n",
      "    from plotly.matplotlylib import mplexporter, PlotlyRenderer\n",
      "    \n",
      "    # create an mpl figure and store it under a varialble 'fig'\n",
      "    \n",
      "    renderer = PlotlyRenderer()\n",
      "    exporter = mplexporter.Exporter(renderer)\n",
      "    exporter.run(fig)\n",
      "    ===========================================================================\n",
      "    \n",
      "    You can then inspect the JSON structures by accessing these:\n",
      "    \n",
      "    renderer.layout -- a plotly layout dictionary\n",
      "    renderer.data -- a list of plotly data dictionaries\n",
      "    \n",
      "    Positional arguments:\n",
      "    fig -- a matplotlib figure object\n",
      "    username -- a valid plotly username **\n",
      "    api_key -- a valid api_key for the above username **\n",
      "    notebook -- an option for use with an IPython notebook\n",
      "    \n",
      "    ** Don't have a username/api_key? Try looking here:\n",
      "    https://plot.ly/plot\n",
      "    \n",
      "    ** Forgot your api_key? Try signing in and looking here:\n",
      "    https://plot.ly/python/getting-started\n",
      "\n"
     ]
    }
   ],
   "source": [
    "help (tls.mpl_to_plotly)"
   ]
  },
  {
   "cell_type": "code",
   "execution_count": 28,
   "metadata": {},
   "outputs": [
    {
     "ename": "NameError",
     "evalue": "name 'mpl_fig1' is not defined",
     "output_type": "error",
     "traceback": [
      "\u001b[0;31m---------------------------------------------------------------------------\u001b[0m",
      "\u001b[0;31mNameError\u001b[0m                                 Traceback (most recent call last)",
      "\u001b[0;32m<ipython-input-28-6bc914486228>\u001b[0m in \u001b[0;36m<module>\u001b[0;34m()\u001b[0m\n\u001b[0;32m----> 1\u001b[0;31m \u001b[0mmpl_fig1\u001b[0m\u001b[0;34m\u001b[0m\u001b[0m\n\u001b[0m",
      "\u001b[0;31mNameError\u001b[0m: name 'mpl_fig1' is not defined"
     ]
    }
   ],
   "source": [
    "mpl_fig1"
   ]
  },
  {
   "cell_type": "code",
   "execution_count": 34,
   "metadata": {},
   "outputs": [],
   "source": [
    "plotly_fig = tls.mpl_to_plotly(fig)"
   ]
  },
  {
   "cell_type": "code",
   "execution_count": 35,
   "metadata": {
    "slideshow": {
     "slide_type": "slide"
    }
   },
   "outputs": [
    {
     "data": {
      "text/html": [
       "<iframe id=\"igraph\" scrolling=\"no\" style=\"border:none;\" seamless=\"seamless\" src=\"https://plot.ly/~rob.treharne/22.embed\" height=\"720px\" width=\"475px\"></iframe>"
      ],
      "text/plain": [
       "<plotly.tools.PlotlyDisplay object>"
      ]
     },
     "execution_count": 35,
     "metadata": {},
     "output_type": "execute_result"
    }
   ],
   "source": [
    "py.iplot(plotly_fig, filename='new')"
   ]
  },
  {
   "cell_type": "code",
   "execution_count": null,
   "metadata": {},
   "outputs": [],
   "source": []
  }
 ],
 "metadata": {
  "kernelspec": {
   "display_name": "Python 3",
   "language": "python",
   "name": "python3"
  },
  "language_info": {
   "codemirror_mode": {
    "name": "ipython",
    "version": 3
   },
   "file_extension": ".py",
   "mimetype": "text/x-python",
   "name": "python",
   "nbconvert_exporter": "python",
   "pygments_lexer": "ipython3",
   "version": "3.5.2"
  }
 },
 "nbformat": 4,
 "nbformat_minor": 2
}
