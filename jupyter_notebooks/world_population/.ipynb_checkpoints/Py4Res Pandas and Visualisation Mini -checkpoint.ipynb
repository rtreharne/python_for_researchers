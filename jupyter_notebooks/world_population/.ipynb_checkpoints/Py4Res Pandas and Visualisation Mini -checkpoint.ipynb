{
 "cells": [
  {
   "cell_type": "markdown",
   "metadata": {
    "slideshow": {
     "slide_type": "slide"
    }
   },
   "source": [
    "# Python for Researchers\n",
    "[www.pythonforresearchers.com](http://pythonforresearchers.com)\n",
    "\n",
    "[@py4res](https://twitter.com/py4res)\n",
    "\n",
    "## 0. Overview: Data handling and visualisation mini series\n",
    "\n",
    "1. Getting data direct from the web\n",
    "2. Plotting data (using Matplotlib)\n",
    "3. Making your plot look awesome\n",
    "4. Making your plot interactive (Plotly)\n",
    "5. Cool Jupyter Notebook functionality"
   ]
  },
  {
   "cell_type": "code",
   "execution_count": 1,
   "metadata": {},
   "outputs": [
    {
     "data": {
      "text/html": [
       "<iframe width=\"560\" height=\"315\" src=\"https://www.youtube.com/embed/XDcOSxwlqiY\" frameborder=\"0\" allow=\"accelerometer; autoplay; encrypted-media; gyroscope; picture-in-picture\" allowfullscreen></iframe>"
      ],
      "text/plain": [
       "<IPython.core.display.HTML object>"
      ]
     },
     "execution_count": 1,
     "metadata": {},
     "output_type": "execute_result"
    }
   ],
   "source": [
    "from IPython.display import HTML\n",
    "HTML('<iframe width=\"560\" height=\"315\" src=\"https://www.youtube.com/embed/XDcOSxwlqiY\" frameborder=\"0\" allow=\"accelerometer; autoplay; encrypted-media; gyroscope; picture-in-picture\" allowfullscreen></iframe>')"
   ]
  },
  {
   "cell_type": "markdown",
   "metadata": {
    "slideshow": {
     "slide_type": "slide"
    }
   },
   "source": [
    "## You are going to make this!\n",
    "\n",
    "<img src=\"world_population.png\">"
   ]
  },
  {
   "cell_type": "markdown",
   "metadata": {},
   "source": [
    "## Part 1: Getting data direct from the web"
   ]
  },
  {
   "cell_type": "code",
   "execution_count": 2,
   "metadata": {},
   "outputs": [
    {
     "data": {
      "text/html": [
       "<iframe width=\"560\" height=\"315\" src=\"https://www.youtube.com/embed/LQrs_00NBwE\" frameborder=\"0\" allow=\"accelerometer; autoplay; encrypted-media; gyroscope; picture-in-picture\" allowfullscreen></iframe>"
      ],
      "text/plain": [
       "<IPython.core.display.HTML object>"
      ]
     },
     "execution_count": 2,
     "metadata": {},
     "output_type": "execute_result"
    }
   ],
   "source": [
    "HTML('<iframe width=\"560\" height=\"315\" src=\"https://www.youtube.com/embed/LQrs_00NBwE\" frameborder=\"0\" allow=\"accelerometer; autoplay; encrypted-media; gyroscope; picture-in-picture\" allowfullscreen></iframe>')"
   ]
  },
  {
   "cell_type": "code",
   "execution_count": 3,
   "metadata": {},
   "outputs": [],
   "source": [
    "# import pandas\n",
    "import pandas as pd\n",
    "URL = \"https://en.wikipedia.org/wiki/World_population\""
   ]
  },
  {
   "cell_type": "code",
   "execution_count": 4,
   "metadata": {},
   "outputs": [],
   "source": [
    "# Read data into pandas datafrom direct from the web\n",
    "df = pd.read_html(URL, header=0, index_col=0)[8]"
   ]
  },
  {
   "cell_type": "code",
   "execution_count": 5,
   "metadata": {},
   "outputs": [
    {
     "data": {
      "text/html": [
       "<div>\n",
       "<style scoped>\n",
       "    .dataframe tbody tr th:only-of-type {\n",
       "        vertical-align: middle;\n",
       "    }\n",
       "\n",
       "    .dataframe tbody tr th {\n",
       "        vertical-align: top;\n",
       "    }\n",
       "\n",
       "    .dataframe thead th {\n",
       "        text-align: right;\n",
       "    }\n",
       "</style>\n",
       "<table border=\"1\" class=\"dataframe\">\n",
       "  <thead>\n",
       "    <tr style=\"text-align: right;\">\n",
       "      <th></th>\n",
       "      <th>1500</th>\n",
       "      <th>1600</th>\n",
       "      <th>1700</th>\n",
       "      <th>1750</th>\n",
       "      <th>1800</th>\n",
       "      <th>1850</th>\n",
       "      <th>1900</th>\n",
       "      <th>1950</th>\n",
       "      <th>1999</th>\n",
       "      <th>2008</th>\n",
       "      <th>2010</th>\n",
       "      <th>2012</th>\n",
       "    </tr>\n",
       "    <tr>\n",
       "      <th>Region</th>\n",
       "      <th></th>\n",
       "      <th></th>\n",
       "      <th></th>\n",
       "      <th></th>\n",
       "      <th></th>\n",
       "      <th></th>\n",
       "      <th></th>\n",
       "      <th></th>\n",
       "      <th></th>\n",
       "      <th></th>\n",
       "      <th></th>\n",
       "      <th></th>\n",
       "    </tr>\n",
       "  </thead>\n",
       "  <tbody>\n",
       "    <tr>\n",
       "      <th>World</th>\n",
       "      <td>585</td>\n",
       "      <td>660</td>\n",
       "      <td>710</td>\n",
       "      <td>791</td>\n",
       "      <td>978</td>\n",
       "      <td>1262</td>\n",
       "      <td>1650</td>\n",
       "      <td>2521</td>\n",
       "      <td>6008</td>\n",
       "      <td>6707</td>\n",
       "      <td>6896</td>\n",
       "      <td>7052</td>\n",
       "    </tr>\n",
       "    <tr>\n",
       "      <th>Africa</th>\n",
       "      <td>86</td>\n",
       "      <td>114</td>\n",
       "      <td>106</td>\n",
       "      <td>106</td>\n",
       "      <td>107</td>\n",
       "      <td>111</td>\n",
       "      <td>133</td>\n",
       "      <td>221</td>\n",
       "      <td>783</td>\n",
       "      <td>973</td>\n",
       "      <td>1022</td>\n",
       "      <td>1052</td>\n",
       "    </tr>\n",
       "    <tr>\n",
       "      <th>Asia</th>\n",
       "      <td>282</td>\n",
       "      <td>350</td>\n",
       "      <td>411</td>\n",
       "      <td>502</td>\n",
       "      <td>635</td>\n",
       "      <td>809</td>\n",
       "      <td>947</td>\n",
       "      <td>1402</td>\n",
       "      <td>3700</td>\n",
       "      <td>4054</td>\n",
       "      <td>4164</td>\n",
       "      <td>4250</td>\n",
       "    </tr>\n",
       "    <tr>\n",
       "      <th>Europe</th>\n",
       "      <td>168</td>\n",
       "      <td>170</td>\n",
       "      <td>178</td>\n",
       "      <td>190</td>\n",
       "      <td>203</td>\n",
       "      <td>276</td>\n",
       "      <td>408</td>\n",
       "      <td>547</td>\n",
       "      <td>675</td>\n",
       "      <td>732</td>\n",
       "      <td>738</td>\n",
       "      <td>740</td>\n",
       "    </tr>\n",
       "    <tr>\n",
       "      <th>Latin America[Note 1]</th>\n",
       "      <td>40</td>\n",
       "      <td>20</td>\n",
       "      <td>10</td>\n",
       "      <td>16</td>\n",
       "      <td>24</td>\n",
       "      <td>38</td>\n",
       "      <td>74</td>\n",
       "      <td>167</td>\n",
       "      <td>508</td>\n",
       "      <td>577</td>\n",
       "      <td>590</td>\n",
       "      <td>603</td>\n",
       "    </tr>\n",
       "    <tr>\n",
       "      <th>North America[Note 1]</th>\n",
       "      <td>6</td>\n",
       "      <td>3</td>\n",
       "      <td>2</td>\n",
       "      <td>2</td>\n",
       "      <td>7</td>\n",
       "      <td>26</td>\n",
       "      <td>82</td>\n",
       "      <td>172</td>\n",
       "      <td>312</td>\n",
       "      <td>337</td>\n",
       "      <td>345</td>\n",
       "      <td>351</td>\n",
       "    </tr>\n",
       "    <tr>\n",
       "      <th>Oceania</th>\n",
       "      <td>3</td>\n",
       "      <td>3</td>\n",
       "      <td>3</td>\n",
       "      <td>2</td>\n",
       "      <td>2</td>\n",
       "      <td>2</td>\n",
       "      <td>6</td>\n",
       "      <td>13</td>\n",
       "      <td>30</td>\n",
       "      <td>34</td>\n",
       "      <td>37</td>\n",
       "      <td>38</td>\n",
       "    </tr>\n",
       "  </tbody>\n",
       "</table>\n",
       "</div>"
      ],
      "text/plain": [
       "                       1500  1600  1700  1750  1800  1850  1900  1950  1999  \\\n",
       "Region                                                                        \n",
       "World                   585   660   710   791   978  1262  1650  2521  6008   \n",
       "Africa                   86   114   106   106   107   111   133   221   783   \n",
       "Asia                    282   350   411   502   635   809   947  1402  3700   \n",
       "Europe                  168   170   178   190   203   276   408   547   675   \n",
       "Latin America[Note 1]    40    20    10    16    24    38    74   167   508   \n",
       "North America[Note 1]     6     3     2     2     7    26    82   172   312   \n",
       "Oceania                   3     3     3     2     2     2     6    13    30   \n",
       "\n",
       "                       2008  2010  2012  \n",
       "Region                                   \n",
       "World                  6707  6896  7052  \n",
       "Africa                  973  1022  1052  \n",
       "Asia                   4054  4164  4250  \n",
       "Europe                  732   738   740  \n",
       "Latin America[Note 1]   577   590   603  \n",
       "North America[Note 1]   337   345   351  \n",
       "Oceania                  34    37    38  "
      ]
     },
     "execution_count": 5,
     "metadata": {},
     "output_type": "execute_result"
    }
   ],
   "source": [
    "# Filter the columns - historical data only\n",
    "df_filtered = df[df.columns[0:12]]\n",
    "df_filtered"
   ]
  },
  {
   "cell_type": "code",
   "execution_count": 6,
   "metadata": {},
   "outputs": [],
   "source": [
    "# Tidy up index\n",
    "index = df_filtered.index.values\n",
    "df_filtered.index = [x.replace(\"[Note 1]\", \"\") for x in index]"
   ]
  },
  {
   "cell_type": "code",
   "execution_count": 7,
   "metadata": {},
   "outputs": [
    {
     "data": {
      "text/html": [
       "<div>\n",
       "<style scoped>\n",
       "    .dataframe tbody tr th:only-of-type {\n",
       "        vertical-align: middle;\n",
       "    }\n",
       "\n",
       "    .dataframe tbody tr th {\n",
       "        vertical-align: top;\n",
       "    }\n",
       "\n",
       "    .dataframe thead th {\n",
       "        text-align: right;\n",
       "    }\n",
       "</style>\n",
       "<table border=\"1\" class=\"dataframe\">\n",
       "  <thead>\n",
       "    <tr style=\"text-align: right;\">\n",
       "      <th></th>\n",
       "      <th>1500</th>\n",
       "      <th>1600</th>\n",
       "      <th>1700</th>\n",
       "      <th>1750</th>\n",
       "      <th>1800</th>\n",
       "      <th>1850</th>\n",
       "      <th>1900</th>\n",
       "      <th>1950</th>\n",
       "      <th>1999</th>\n",
       "      <th>2008</th>\n",
       "      <th>2010</th>\n",
       "      <th>2012</th>\n",
       "    </tr>\n",
       "  </thead>\n",
       "  <tbody>\n",
       "    <tr>\n",
       "      <th>World</th>\n",
       "      <td>585</td>\n",
       "      <td>660</td>\n",
       "      <td>710</td>\n",
       "      <td>791</td>\n",
       "      <td>978</td>\n",
       "      <td>1262</td>\n",
       "      <td>1650</td>\n",
       "      <td>2521</td>\n",
       "      <td>6008</td>\n",
       "      <td>6707</td>\n",
       "      <td>6896</td>\n",
       "      <td>7052</td>\n",
       "    </tr>\n",
       "    <tr>\n",
       "      <th>Asia</th>\n",
       "      <td>282</td>\n",
       "      <td>350</td>\n",
       "      <td>411</td>\n",
       "      <td>502</td>\n",
       "      <td>635</td>\n",
       "      <td>809</td>\n",
       "      <td>947</td>\n",
       "      <td>1402</td>\n",
       "      <td>3700</td>\n",
       "      <td>4054</td>\n",
       "      <td>4164</td>\n",
       "      <td>4250</td>\n",
       "    </tr>\n",
       "    <tr>\n",
       "      <th>Africa</th>\n",
       "      <td>86</td>\n",
       "      <td>114</td>\n",
       "      <td>106</td>\n",
       "      <td>106</td>\n",
       "      <td>107</td>\n",
       "      <td>111</td>\n",
       "      <td>133</td>\n",
       "      <td>221</td>\n",
       "      <td>783</td>\n",
       "      <td>973</td>\n",
       "      <td>1022</td>\n",
       "      <td>1052</td>\n",
       "    </tr>\n",
       "    <tr>\n",
       "      <th>Europe</th>\n",
       "      <td>168</td>\n",
       "      <td>170</td>\n",
       "      <td>178</td>\n",
       "      <td>190</td>\n",
       "      <td>203</td>\n",
       "      <td>276</td>\n",
       "      <td>408</td>\n",
       "      <td>547</td>\n",
       "      <td>675</td>\n",
       "      <td>732</td>\n",
       "      <td>738</td>\n",
       "      <td>740</td>\n",
       "    </tr>\n",
       "    <tr>\n",
       "      <th>Latin America</th>\n",
       "      <td>40</td>\n",
       "      <td>20</td>\n",
       "      <td>10</td>\n",
       "      <td>16</td>\n",
       "      <td>24</td>\n",
       "      <td>38</td>\n",
       "      <td>74</td>\n",
       "      <td>167</td>\n",
       "      <td>508</td>\n",
       "      <td>577</td>\n",
       "      <td>590</td>\n",
       "      <td>603</td>\n",
       "    </tr>\n",
       "    <tr>\n",
       "      <th>North America</th>\n",
       "      <td>6</td>\n",
       "      <td>3</td>\n",
       "      <td>2</td>\n",
       "      <td>2</td>\n",
       "      <td>7</td>\n",
       "      <td>26</td>\n",
       "      <td>82</td>\n",
       "      <td>172</td>\n",
       "      <td>312</td>\n",
       "      <td>337</td>\n",
       "      <td>345</td>\n",
       "      <td>351</td>\n",
       "    </tr>\n",
       "    <tr>\n",
       "      <th>Oceania</th>\n",
       "      <td>3</td>\n",
       "      <td>3</td>\n",
       "      <td>3</td>\n",
       "      <td>2</td>\n",
       "      <td>2</td>\n",
       "      <td>2</td>\n",
       "      <td>6</td>\n",
       "      <td>13</td>\n",
       "      <td>30</td>\n",
       "      <td>34</td>\n",
       "      <td>37</td>\n",
       "      <td>38</td>\n",
       "    </tr>\n",
       "  </tbody>\n",
       "</table>\n",
       "</div>"
      ],
      "text/plain": [
       "               1500  1600  1700  1750  1800  1850  1900  1950  1999  2008  \\\n",
       "World           585   660   710   791   978  1262  1650  2521  6008  6707   \n",
       "Asia            282   350   411   502   635   809   947  1402  3700  4054   \n",
       "Africa           86   114   106   106   107   111   133   221   783   973   \n",
       "Europe          168   170   178   190   203   276   408   547   675   732   \n",
       "Latin America    40    20    10    16    24    38    74   167   508   577   \n",
       "North America     6     3     2     2     7    26    82   172   312   337   \n",
       "Oceania           3     3     3     2     2     2     6    13    30    34   \n",
       "\n",
       "               2010  2012  \n",
       "World          6896  7052  \n",
       "Asia           4164  4250  \n",
       "Africa         1022  1052  \n",
       "Europe          738   740  \n",
       "Latin America   590   603  \n",
       "North America   345   351  \n",
       "Oceania          37    38  "
      ]
     },
     "execution_count": 7,
     "metadata": {},
     "output_type": "execute_result"
    }
   ],
   "source": [
    "# Sort table according to 2012 population\n",
    "df_filtered.sort_values(by=[\"2012\"], ascending=False)"
   ]
  },
  {
   "cell_type": "code",
   "execution_count": 8,
   "metadata": {},
   "outputs": [],
   "source": [
    "# Save table to excel spreadsheet\n",
    "df_filtered.to_excel(\"world_population.xlsx\")"
   ]
  },
  {
   "cell_type": "markdown",
   "metadata": {},
   "source": [
    "## Part 2: Generating a basic plot (using Matplotlib)"
   ]
  },
  {
   "cell_type": "code",
   "execution_count": 9,
   "metadata": {},
   "outputs": [
    {
     "data": {
      "text/html": [
       "<iframe width=\"560\" height=\"315\" src=\"https://www.youtube.com/embed/F7k_4S38qgY\" frameborder=\"0\" allow=\"accelerometer; autoplay; encrypted-media; gyroscope; picture-in-picture\" allowfullscreen></iframe>"
      ],
      "text/plain": [
       "<IPython.core.display.HTML object>"
      ]
     },
     "execution_count": 9,
     "metadata": {},
     "output_type": "execute_result"
    }
   ],
   "source": [
    "HTML('<iframe width=\"560\" height=\"315\" src=\"https://www.youtube.com/embed/F7k_4S38qgY\" frameborder=\"0\" allow=\"accelerometer; autoplay; encrypted-media; gyroscope; picture-in-picture\" allowfullscreen></iframe>')"
   ]
  },
  {
   "cell_type": "code",
   "execution_count": 10,
   "metadata": {},
   "outputs": [],
   "source": [
    "# import matplotlib\n",
    "import matplotlib.pyplot as plt"
   ]
  },
  {
   "cell_type": "code",
   "execution_count": 11,
   "metadata": {},
   "outputs": [
    {
     "data": {
      "image/png": "[encoded data removed]",
      "text/plain": [
       "<matplotlib.figure.Figure at 0x7f3219756a90>"
      ]
     },
     "metadata": {},
     "output_type": "display_data"
    }
   ],
   "source": [
    "# Setup figure and axis\n",
    "fig, ax = plt.subplots()\n",
    "\n",
    "# Plot each row as a line\n",
    "for row in df_filtered.iterrows():\n",
    "    ax.plot(row[1], label=row[0], linewidth=3)\n",
    "    \n",
    "# Set title and axis labels\n",
    "ax.set_xlabel('Year')\n",
    "ax.set_ylabel('Population (millions)')\n",
    "ax.set_title('Historical World Population')\n",
    "\n",
    "# Include a legend\n",
    "ax.legend()\n",
    "\n",
    "# Use a logarithmic y scale\n",
    "ax.set_yscale(\"log\")\n",
    "\n",
    "plt.show()\n"
   ]
  },
  {
   "cell_type": "code",
   "execution_count": 12,
   "metadata": {},
   "outputs": [],
   "source": [
    "# Export figure\n",
    "fig.savefig(\"world_pop_basic.png\", transparent=False)"
   ]
  },
  {
   "cell_type": "markdown",
   "metadata": {},
   "source": [
    "## Part 3: Jazzing up the plot"
   ]
  },
  {
   "cell_type": "code",
   "execution_count": 13,
   "metadata": {},
   "outputs": [
    {
     "data": {
      "text/html": [
       "<iframe width=\"560\" height=\"315\" src=\"https://www.youtube.com/embed/iVMjUCyYr4c\" frameborder=\"0\" allow=\"accelerometer; autoplay; encrypted-media; gyroscope; picture-in-picture\" allowfullscreen></iframe>"
      ],
      "text/plain": [
       "<IPython.core.display.HTML object>"
      ]
     },
     "execution_count": 13,
     "metadata": {},
     "output_type": "execute_result"
    }
   ],
   "source": [
    "HTML('<iframe width=\"560\" height=\"315\" src=\"https://www.youtube.com/embed/iVMjUCyYr4c\" frameborder=\"0\" allow=\"accelerometer; autoplay; encrypted-media; gyroscope; picture-in-picture\" allowfullscreen></iframe>')"
   ]
  },
  {
   "cell_type": "code",
   "execution_count": 54,
   "metadata": {},
   "outputs": [
    {
     "data": {
      "image/png": "[encoded data removed]",
      "text/plain": [
       "<matplotlib.figure.Figure at 0x7f32142eddd8>"
      ]
     },
     "metadata": {},
     "output_type": "display_data"
    }
   ],
   "source": [
    "# Set dataframe column labels to integers instead of strings\n",
    "# This lets matplotlib automagically adjust the spacing of the\n",
    "# x-axis tick labesl\n",
    "years = df_filtered.columns.values\n",
    "df_filtered.columns = list(map(int, years))\n",
    "\n",
    "# Set Latex font for plot\n",
    "plt.rc('text', usetex=True)\n",
    "plt.rc('font', family='serif')\n",
    "\n",
    "# Define height and width\n",
    "height = 10\n",
    "width = 0.66*height\n",
    "\n",
    "# Setup figure and axis\n",
    "fig, ax = plt.subplots(figsize=(width, height))\n",
    "\n",
    "# Plot each row as a line\n",
    "for row in df_filtered.iterrows():\n",
    "    ax.plot(row[1], label=row[0], linewidth=3)\n",
    "    \n",
    "# Set title and axis labels\n",
    "ax.set_xlabel('Year', fontsize=18)\n",
    "ax.set_ylabel('Population (millions)', fontsize=18)\n",
    "ax.set_title('Historical World Population', fontsize=20)\n",
    "ax.tick_params(labelsize=16)\n",
    "\n",
    "# Set x-axis range\n",
    "ax.set_xlim(1500, 2012)\n",
    "\n",
    "# Set gridlines\n",
    "ax.grid(which='minor', linewidth=0.2, color='grey')\n",
    "ax.grid(which='major', linewidth=0.4, color='grey', axis='y')\n",
    "\n",
    "# Include a legend\n",
    "#ax.legend(fontsize=14)\n",
    "\n",
    "# Use a logarithmic y scale\n",
    "ax.set_yscale(\"log\")\n",
    "\n",
    "plt.show()\n",
    "\n",
    "# Export your figure\n",
    "fig.savefig(\"world_population.eps\", format=\"eps\") # vector\n",
    "fig.savefig(\"world_population_jazzy.png\", transparent=False) # png with white background"
   ]
  },
  {
   "cell_type": "markdown",
   "metadata": {},
   "source": [
    "## Part 4: Creating interactive graphs with Plotly"
   ]
  },
  {
   "cell_type": "code",
   "execution_count": 55,
   "metadata": {},
   "outputs": [],
   "source": [
    "import plotly.plotly as py\n",
    "import plotly.tools as tls\n",
    "\n",
    "tls.set_credentials_file(username='rob.treharne', api_key='sah3pqg1qQPKCsLsm1JA')"
   ]
  },
  {
   "cell_type": "code",
   "execution_count": 56,
   "metadata": {},
   "outputs": [],
   "source": [
    "fig.subplots_adjust(right=0.75)\n",
    "plotly_fig = tls.mpl_to_plotly(fig)"
   ]
  },
  {
   "cell_type": "code",
   "execution_count": 57,
   "metadata": {},
   "outputs": [
    {
     "data": {
      "text/html": [
       "<iframe id=\"igraph\" scrolling=\"no\" style=\"border:none;\" seamless=\"seamless\" src=\"https://plot.ly/~rob.treharne/22.embed\" height=\"720px\" width=\"475px\"></iframe>"
      ],
      "text/plain": [
       "<plotly.tools.PlotlyDisplay object>"
      ]
     },
     "execution_count": 57,
     "metadata": {},
     "output_type": "execute_result"
    }
   ],
   "source": [
    "py.iplot(plotly_fig, filename='new')"
   ]
  },
  {
   "cell_type": "code",
   "execution_count": 52,
   "metadata": {},
   "outputs": [
    {
     "data": {
      "text/html": [
       "<iframe width=\"900\" height=\"800\" frameborder=\"0\" scrolling=\"no\" src=\"//plot.ly/~rob.treharne/22.embed\"></iframe>"
      ],
      "text/plain": [
       "<IPython.core.display.HTML object>"
      ]
     },
     "execution_count": 52,
     "metadata": {},
     "output_type": "execute_result"
    }
   ],
   "source": [
    "HTML('<iframe width=\"900\" height=\"800\" frameborder=\"0\" scrolling=\"no\" src=\"//plot.ly/~rob.treharne/22.embed\"></iframe>')"
   ]
  },
  {
   "cell_type": "code",
   "execution_count": null,
   "metadata": {},
   "outputs": [],
   "source": []
  }
 ],
 "metadata": {
  "kernelspec": {
   "display_name": "Python 3",
   "language": "python",
   "name": "python3"
  },
  "language_info": {
   "codemirror_mode": {
    "name": "ipython",
    "version": 3
   },
   "file_extension": ".py",
   "mimetype": "text/x-python",
   "name": "python",
   "nbconvert_exporter": "python",
   "pygments_lexer": "ipython3",
   "version": "3.5.2"
  }
 },
 "nbformat": 4,
 "nbformat_minor": 2
}
